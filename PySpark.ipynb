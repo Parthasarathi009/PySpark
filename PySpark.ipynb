{
  "nbformat": 4,
  "nbformat_minor": 0,
  "metadata": {
    "colab": {
      "name": "PySpark.ipynb",
      "provenance": [],
      "collapsed_sections": [],
      "mount_file_id": "1g2WfLIy1-lp4UKvIK4l_-BetOUEvD7TE",
      "authorship_tag": "ABX9TyMSGc2m6Ch9X1K9W+yFuyBS",
      "include_colab_link": true
    },
    "kernelspec": {
      "name": "python3",
      "display_name": "Python 3"
    }
  },
  "cells": [
    {
      "cell_type": "markdown",
      "metadata": {
        "id": "view-in-github",
        "colab_type": "text"
      },
      "source": [
        "<a href=\"https://colab.research.google.com/github/Parthasarathi009/PySpark/blob/master/PySpark.ipynb\" target=\"_parent\"><img src=\"https://colab.research.google.com/assets/colab-badge.svg\" alt=\"Open In Colab\"/></a>"
      ]
    },
    {
      "cell_type": "code",
      "metadata": {
        "id": "vxVFvf3mrGgj",
        "colab_type": "code",
        "colab": {
          "base_uri": "https://localhost:8080/",
          "height": 122
        },
        "outputId": "4505c3d9-2b66-4463-9a4b-8d28ef35590d"
      },
      "source": [
        "from google.colab import drive\n",
        "drive.mount('/content/drive')"
      ],
      "execution_count": 1,
      "outputs": [
        {
          "output_type": "stream",
          "text": [
            "Go to this URL in a browser: https://accounts.google.com/o/oauth2/auth?client_id=947318989803-6bn6qk8qdgf4n4g3pfee6491hc0brc4i.apps.googleusercontent.com&redirect_uri=urn%3aietf%3awg%3aoauth%3a2.0%3aoob&response_type=code&scope=email%20https%3a%2f%2fwww.googleapis.com%2fauth%2fdocs.test%20https%3a%2f%2fwww.googleapis.com%2fauth%2fdrive%20https%3a%2f%2fwww.googleapis.com%2fauth%2fdrive.photos.readonly%20https%3a%2f%2fwww.googleapis.com%2fauth%2fpeopleapi.readonly\n",
            "\n",
            "Enter your authorization code:\n",
            "··········\n",
            "Mounted at /content/drive\n"
          ],
          "name": "stdout"
        }
      ]
    },
    {
      "cell_type": "code",
      "metadata": {
        "id": "RwOVrzPQsP3U",
        "colab_type": "code",
        "colab": {
          "base_uri": "https://localhost:8080/",
          "height": 51
        },
        "outputId": "f6b95ab3-b660-4a41-8eca-16f45348a1e1"
      },
      "source": [
        "%cd /content/drive/My\\ Drive/LearningD/Application\\ of\\ AI/\n",
        "!pwd"
      ],
      "execution_count": 13,
      "outputs": [
        {
          "output_type": "stream",
          "text": [
            "/content/drive/My Drive/LearningD/Application of AI\n",
            "/content/drive/My Drive/LearningD/Application of AI\n"
          ],
          "name": "stdout"
        }
      ]
    },
    {
      "cell_type": "code",
      "metadata": {
        "id": "9wT5x1s7UofE",
        "colab_type": "code",
        "colab": {
          "base_uri": "https://localhost:8080/",
          "height": 51
        },
        "outputId": "ffed7e75-9a06-4c2f-978e-5d080cc33a0f"
      },
      "source": [
        "!ls -a"
      ],
      "execution_count": 14,
      "outputs": [
        {
          "output_type": "stream",
          "text": [
            "'Application of AI_ Discussion.docx'\t    Small_Car_Data.csv\n",
            " EAI6010_SamantarayParthasarathiHW01.docx\n"
          ],
          "name": "stdout"
        }
      ]
    },
    {
      "cell_type": "code",
      "metadata": {
        "id": "9RSozLW3WjL1",
        "colab_type": "code",
        "colab": {
          "base_uri": "https://localhost:8080/",
          "height": 34
        },
        "outputId": "24d30cd1-0d84-4762-ff00-01adeb39d191"
      },
      "source": [
        "!pwd"
      ],
      "execution_count": 12,
      "outputs": [
        {
          "output_type": "stream",
          "text": [
            "/content/drive/My Drive/LearningD\n"
          ],
          "name": "stdout"
        }
      ]
    },
    {
      "cell_type": "code",
      "metadata": {
        "id": "7nXAnUPSYo84",
        "colab_type": "code",
        "colab": {
          "base_uri": "https://localhost:8080/",
          "height": 258
        },
        "outputId": "b9157c05-305e-4d4c-9452-56ae695be17b"
      },
      "source": [
        "!pip install pyspark"
      ],
      "execution_count": 22,
      "outputs": [
        {
          "output_type": "stream",
          "text": [
            "Collecting pyspark\n",
            "\u001b[?25l  Downloading https://files.pythonhosted.org/packages/9a/5a/271c416c1c2185b6cb0151b29a91fff6fcaed80173c8584ff6d20e46b465/pyspark-2.4.5.tar.gz (217.8MB)\n",
            "\u001b[K     |████████████████████████████████| 217.8MB 59kB/s \n",
            "\u001b[?25hCollecting py4j==0.10.7\n",
            "\u001b[?25l  Downloading https://files.pythonhosted.org/packages/e3/53/c737818eb9a7dc32a7cd4f1396e787bd94200c3997c72c1dbe028587bd76/py4j-0.10.7-py2.py3-none-any.whl (197kB)\n",
            "\u001b[K     |████████████████████████████████| 204kB 52.8MB/s \n",
            "\u001b[?25hBuilding wheels for collected packages: pyspark\n",
            "  Building wheel for pyspark (setup.py) ... \u001b[?25l\u001b[?25hdone\n",
            "  Created wheel for pyspark: filename=pyspark-2.4.5-py2.py3-none-any.whl size=218257927 sha256=7581e7594f52f5bbb903e31e0e6f23c58ffa200f8e6e479edb0f0a9c8639fbe7\n",
            "  Stored in directory: /root/.cache/pip/wheels/bf/db/04/61d66a5939364e756eb1c1be4ec5bdce6e04047fc7929a3c3c\n",
            "Successfully built pyspark\n",
            "Installing collected packages: py4j, pyspark\n",
            "Successfully installed py4j-0.10.7 pyspark-2.4.5\n"
          ],
          "name": "stdout"
        }
      ]
    },
    {
      "cell_type": "code",
      "metadata": {
        "id": "B_nf6TjHZE7C",
        "colab_type": "code",
        "colab": {}
      },
      "source": [
        "import os\n",
        "os.environ[\"JAVA_HOME\"] = \"/usr/lib/jvm/java-8-openjdk-amd64\"\n",
        "os.environ[\"SPARK_HOME\"] = \"/content/drive/My Drive/LearningD/Application of AI/spark-2.4.5-bin-hadoop2.7\""
      ],
      "execution_count": 0,
      "outputs": []
    },
    {
      "cell_type": "code",
      "metadata": {
        "id": "ip_41i-OYIlN",
        "colab_type": "code",
        "colab": {}
      },
      "source": [
        "from pyspark.sql import SparkSession\n",
        "spark = SparkSession.builder.master(\"local[*]\").getOrCreate()"
      ],
      "execution_count": 0,
      "outputs": []
    },
    {
      "cell_type": "code",
      "metadata": {
        "id": "34BMA6qzfNhu",
        "colab_type": "code",
        "colab": {
          "base_uri": "https://localhost:8080/",
          "height": 170
        },
        "outputId": "210edcba-1080-4f50-ddc1-dd35d28bc95a"
      },
      "source": [
        "cars= spark.read.csv(\"Small_Car_Data.csv\")\n",
        "cars.show(3,False) # see 3 rows"
      ],
      "execution_count": 128,
      "outputs": [
        {
          "output_type": "stream",
          "text": [
            "+----+---+---+---+-------------+---------------------------------+---+---+-------+----+\n",
            "|_c0 |_c1|_c2|_c3|_c4          |_c5                              |_c6|_c7|_c8    |_c9 |\n",
            "+----+---+---+---+-------------+---------------------------------+---+---+-------+----+\n",
            "|12  |8  |307|130|chevrolet    |chevrolet chevelle malibu        |70 |18 |USA    |3504|\n",
            "|11.5|8  |350|165|buick        |buick skylark 320                |70 |15 |USA    |3693|\n",
            "|11  |8  |318|150|plymouth     |plymouth satellite               |70 |18 |USA    |3436|\n",
            "+----+---+---+---+-------------+---------------------------------+---+---+-------+----+\n",
            "only showing top 3 rows\n",
            "\n"
          ],
          "name": "stdout"
        }
      ]
    },
    {
      "cell_type": "code",
      "metadata": {
        "id": "NJRz1Gmgo0ft",
        "colab_type": "code",
        "colab": {
          "base_uri": "https://localhost:8080/",
          "height": 71
        },
        "outputId": "997ef832-a190-44cb-b1a3-8e0b22126c24"
      },
      "source": [
        "print(cars.printSchema)\n",
        "cars=cars.withColumn('_c2',cars._c2.cast(\"integer\"))\n",
        "cars=cars.withColumn('_c3',cars._c3.cast(\"integer\"))\n",
        "print(cars.printSchema)"
      ],
      "execution_count": 72,
      "outputs": [
        {
          "output_type": "stream",
          "text": [
            "<bound method DataFrame.printSchema of DataFrame[_c0: string, _c1: string, _c2: string, _c3: string, _c4: string, _c5: string, _c6: string, _c7: string, _c8: string, _c9: string]>\n",
            "<bound method DataFrame.printSchema of DataFrame[_c0: string, _c1: string, _c2: int, _c3: int, _c4: string, _c5: string, _c6: string, _c7: string, _c8: string, _c9: string]>\n"
          ],
          "name": "stdout"
        }
      ]
    },
    {
      "cell_type": "code",
      "metadata": {
        "id": "4j1xyu5riNtF",
        "colab_type": "code",
        "colab": {}
      },
      "source": [
        "from pyspark.ml.regression import LinearRegression\n",
        "from pyspark.ml.feature import VectorAssembler"
      ],
      "execution_count": 0,
      "outputs": []
    },
    {
      "cell_type": "code",
      "metadata": {
        "id": "nW8jgmiYhK9g",
        "colab_type": "code",
        "colab": {
          "base_uri": "https://localhost:8080/",
          "height": 459
        },
        "outputId": "29634b2a-75e0-4fc2-be85-5ea243427a8a"
      },
      "source": [
        "assembler = VectorAssembler(inputCols=[\"_c2\"], outputCol = 'features')\n",
        "output = assembler.transform(cars)\n",
        "#Input vs Output\n",
        "cars_1 = output.select(\"features\",\"_c3\")\n",
        "cars_1.show()"
      ],
      "execution_count": 73,
      "outputs": [
        {
          "output_type": "stream",
          "text": [
            "+--------+---+\n",
            "|features|_c3|\n",
            "+--------+---+\n",
            "| [307.0]|130|\n",
            "| [350.0]|165|\n",
            "| [318.0]|150|\n",
            "| [304.0]|150|\n",
            "| [302.0]|140|\n",
            "| [429.0]|198|\n",
            "| [454.0]|220|\n",
            "| [440.0]|215|\n",
            "| [455.0]|225|\n",
            "| [390.0]|190|\n",
            "| [133.0]|115|\n",
            "| [350.0]|165|\n",
            "| [351.0]|153|\n",
            "| [383.0]|175|\n",
            "| [360.0]|175|\n",
            "| [383.0]|170|\n",
            "| [340.0]|160|\n",
            "| [302.0]|140|\n",
            "| [400.0]|150|\n",
            "| [455.0]|225|\n",
            "+--------+---+\n",
            "only showing top 20 rows\n",
            "\n"
          ],
          "name": "stdout"
        }
      ]
    },
    {
      "cell_type": "code",
      "metadata": {
        "id": "SyhrUnePpoYH",
        "colab_type": "code",
        "colab": {}
      },
      "source": [
        "cars_1=cars_1.withColumnRenamed(\"_c3\",'horsepower')"
      ],
      "execution_count": 0,
      "outputs": []
    },
    {
      "cell_type": "code",
      "metadata": {
        "id": "42NVNpCLlG0T",
        "colab_type": "code",
        "colab": {
          "base_uri": "https://localhost:8080/",
          "height": 170
        },
        "outputId": "c16f58b6-867c-4c53-da61-f799f65c0820"
      },
      "source": [
        "train, test = cars_1.randomSplit([0.9,0.1],seed =9)\n",
        "\n",
        "lr= LinearRegression(labelCol= 'horsepower', regParam=0.1).fit(train)\n",
        "pred_lr= lr.transform(test)\n",
        "pred_lr.show(3, False)"
      ],
      "execution_count": 76,
      "outputs": [
        {
          "output_type": "stream",
          "text": [
            "+--------+----------+-----------------+\n",
            "|features|horsepower|prediction       |\n",
            "+--------+----------+-----------------+\n",
            "|[91.0]  |68        |69.67646031481843|\n",
            "|[119.0] |82        |79.74165014779364|\n",
            "|[151.0] |90        |91.24472424262242|\n",
            "+--------+----------+-----------------+\n",
            "only showing top 3 rows\n",
            "\n"
          ],
          "name": "stdout"
        }
      ]
    },
    {
      "cell_type": "code",
      "metadata": {
        "id": "bFRuII9nq_2I",
        "colab_type": "code",
        "colab": {
          "base_uri": "https://localhost:8080/",
          "height": 34
        },
        "outputId": "0fe81790-0158-4020-bc00-ede31cf5779b"
      },
      "source": [
        "from pyspark.ml.evaluation import RegressionEvaluator\n",
        "print(\"R2 is :\",RegressionEvaluator(labelCol= 'horsepower',metricName=\"r2\").evaluate(pred_lr))"
      ],
      "execution_count": 79,
      "outputs": [
        {
          "output_type": "stream",
          "text": [
            "R2 is : 0.8122631744877152\n"
          ],
          "name": "stdout"
        }
      ]
    },
    {
      "cell_type": "code",
      "metadata": {
        "id": "A5o9CnAzEbCO",
        "colab_type": "code",
        "colab": {}
      },
      "source": [
        "import matplotlib.pyplot as plt"
      ],
      "execution_count": 0,
      "outputs": []
    },
    {
      "cell_type": "code",
      "metadata": {
        "id": "mJBrAN7WF49-",
        "colab_type": "code",
        "colab": {
          "base_uri": "https://localhost:8080/",
          "height": 102
        },
        "outputId": "660ad86d-8050-4d06-de07-28835e07d398"
      },
      "source": [
        "cars_pd=cars.toPandas()\n",
        "print(cars_pd.head(2))"
      ],
      "execution_count": 190,
      "outputs": [
        {
          "output_type": "stream",
          "text": [
            "   acceleration  ...                                         features21\n",
            "0          3504  ...  (0.0, 1.0, 3504.0, 0.0, 1.0, 0.0, 0.0, 0.0, 0....\n",
            "1          3693  ...  (0.0, 1.0, 3693.0, 0.0, 0.0, 0.0, 0.0, 0.0, 0....\n",
            "\n",
            "[2 rows x 21 columns]\n"
          ],
          "name": "stdout"
        }
      ]
    },
    {
      "cell_type": "code",
      "metadata": {
        "id": "o1E1qZtBK5W9",
        "colab_type": "code",
        "colab": {}
      },
      "source": [
        "coef=lr.coefficients\n",
        "inter=lr.intercept"
      ],
      "execution_count": 0,
      "outputs": []
    },
    {
      "cell_type": "code",
      "metadata": {
        "id": "VoQ5FG90EpFu",
        "colab_type": "code",
        "colab": {
          "base_uri": "https://localhost:8080/",
          "height": 295
        },
        "outputId": "5057d8b0-112b-417b-fa78-1bd1845bdaf7"
      },
      "source": [
        "plt.plot(cars_pd.displacement , cars_pd.horsepower,'bo',label='Actual')\n",
        "plt.plot(cars_pd.displacement , cars_pd.displacement*coef+inter, 'g-',label='Predicted')\n",
        "plt.xlabel(\"Displacement\")\n",
        "plt.ylabel(\"Horsepower\")\n",
        "plt.title(\"Linear Regresion of Horsepower vs Displacement\")\n",
        "plt.legend(loc='best')\n",
        "plt.show()\n"
      ],
      "execution_count": 189,
      "outputs": [
        {
          "output_type": "display_data",
          "data": {
            "image/png": "[encoded data removed]",
            "text/plain": [
              "<Figure size 432x288 with 1 Axes>"
            ]
          },
          "metadata": {
            "tags": []
          }
        }
      ]
    },
    {
      "cell_type": "markdown",
      "metadata": {
        "id": "_2dOujz1vt7s",
        "colab_type": "text"
      },
      "source": [
        "# **Problem2**\n",
        "\n",
        "Treat: cylinders, displacement, manufacturer, model year, origin and weight as features and use linear regression to predict two target variable: horsepower and acceleration. Please note that some of those are categorical variables. Use test data to assess quality of prediction for both target variables. Which of two target variables is easier to predict, in the sense that predicted values differ less from the original values"
      ]
    },
    {
      "cell_type": "code",
      "metadata": {
        "id": "IZT5NbJOvy7y",
        "colab_type": "code",
        "colab": {
          "base_uri": "https://localhost:8080/",
          "height": 275
        },
        "outputId": "5b2e453c-a0d7-4878-b662-e56c47767262"
      },
      "source": [
        "cars.show(1,False)\n",
        "cars=cars.withColumnRenamed('_c0',\"acceleration\")\n",
        "cars=cars.withColumnRenamed('_c1',\"cylinders\")\n",
        "cars=cars.withColumnRenamed('_c2',\"displacement\")\n",
        "cars=cars.withColumnRenamed('_c3',\"horsepower\")\n",
        "cars=cars.withColumnRenamed('_c4',\"manufacturer\")\n",
        "cars=cars.withColumnRenamed('_c5',\"model\")\n",
        "cars=cars.withColumnRenamed('_c6',\"model_year\")\n",
        "cars=cars.withColumnRenamed('_c7',\"mpg\")\n",
        "cars=cars.withColumnRenamed('_c8',\"origin\")\n",
        "cars=cars.withColumnRenamed('_c9',\"weight\")\n",
        "cars=cars.dropna()\n",
        "cars.show(1,False)"
      ],
      "execution_count": 129,
      "outputs": [
        {
          "output_type": "stream",
          "text": [
            "+---+---+---+---+-------------+---------------------------------+---+---+-------+----+\n",
            "|_c0|_c1|_c2|_c3|_c4          |_c5                              |_c6|_c7|_c8    |_c9 |\n",
            "+---+---+---+---+-------------+---------------------------------+---+---+-------+----+\n",
            "|12 |8  |307|130|chevrolet    |chevrolet chevelle malibu        |70 |18 |USA    |3504|\n",
            "+---+---+---+---+-------------+---------------------------------+---+---+-------+----+\n",
            "only showing top 1 row\n",
            "\n",
            "+------------+---------+------------+----------+-------------+---------------------------------+----------+---+-------+------+\n",
            "|acceleration|cylinders|displacement|horsepower|manufacturer |model                            |model_year|mpg|origin |weight|\n",
            "+------------+---------+------------+----------+-------------+---------------------------------+----------+---+-------+------+\n",
            "|12          |8        |307         |130       |chevrolet    |chevrolet chevelle malibu        |70        |18 |USA    |3504  |\n",
            "+------------+---------+------------+----------+-------------+---------------------------------+----------+---+-------+------+\n",
            "only showing top 1 row\n",
            "\n"
          ],
          "name": "stdout"
        }
      ]
    },
    {
      "cell_type": "code",
      "metadata": {
        "id": "Odf9FOcE21UG",
        "colab_type": "code",
        "colab": {
          "base_uri": "https://localhost:8080/",
          "height": 54
        },
        "outputId": "6a93f49d-4c2c-475f-abb0-dffb4a930ab7"
      },
      "source": [
        "cars.printSchema"
      ],
      "execution_count": 130,
      "outputs": [
        {
          "output_type": "execute_result",
          "data": {
            "text/plain": [
              "<bound method DataFrame.printSchema of DataFrame[acceleration: string, cylinders: string, displacement: string, horsepower: string, manufacturer: string, model: string, model_year: string, mpg: string, origin: string, weight: string]>"
            ]
          },
          "metadata": {
            "tags": []
          },
          "execution_count": 130
        }
      ]
    },
    {
      "cell_type": "code",
      "metadata": {
        "id": "E10jcxWK56r9",
        "colab_type": "code",
        "colab": {}
      },
      "source": [
        "cars=cars.withColumn('weight',cars.weight.cast(\"integer\"))\n",
        "cars=cars.withColumn('displacement',cars.weight.cast(\"integer\"))\n",
        "cars=cars.withColumn('horsepower',cars.weight.cast(\"integer\"))\n",
        "cars=cars.withColumn('acceleration',cars.weight.cast(\"integer\"))"
      ],
      "execution_count": 0,
      "outputs": []
    },
    {
      "cell_type": "code",
      "metadata": {
        "id": "Hg-rqeYX00Fb",
        "colab_type": "code",
        "colab": {}
      },
      "source": [
        "from pyspark.ml.feature import OneHotEncoderEstimator\n",
        "from pyspark.ml.feature import StringIndexer"
      ],
      "execution_count": 0,
      "outputs": []
    },
    {
      "cell_type": "code",
      "metadata": {
        "id": "f0IdKK5F3ZBV",
        "colab_type": "code",
        "colab": {
          "base_uri": "https://localhost:8080/",
          "height": 173
        },
        "outputId": "72031ebd-8e64-4e62-ef9f-a35660503703"
      },
      "source": [
        "cars=StringIndexer(inputCol='cylinders', outputCol='cylinders_idx').fit(cars).transform(cars)\n",
        "cars=StringIndexer(inputCol='manufacturer', outputCol='manufacturer_idx').fit(cars).transform(cars)\n",
        "cars=StringIndexer(inputCol='model', outputCol='model_idx').fit(cars).transform(cars)\n",
        "cars=StringIndexer(inputCol='model_year', outputCol='model_year_idx').fit(cars).transform(cars)\n",
        "cars=StringIndexer(inputCol='origin', outputCol='origin_idx').fit(cars).transform(cars)\n",
        "cars.show(2, False)"
      ],
      "execution_count": 132,
      "outputs": [
        {
          "output_type": "stream",
          "text": [
            "+------------+---------+------------+----------+-------------+---------------------------------+----------+---+-------+------+-------------+----------------+---------+--------------+----------+\n",
            "|acceleration|cylinders|displacement|horsepower|manufacturer |model                            |model_year|mpg|origin |weight|cylinders_idx|manufacturer_idx|model_idx|model_year_idx|origin_idx|\n",
            "+------------+---------+------------+----------+-------------+---------------------------------+----------+---+-------+------+-------------+----------------+---------+--------------+----------+\n",
            "|3504        |8        |3504        |3504      |chevrolet    |chevrolet chevelle malibu        |70        |18 |USA    |3504  |1.0          |1.0             |70.0     |0.0           |0.0       |\n",
            "|3693        |8        |3693        |3693      |buick        |buick skylark 320                |70        |15 |USA    |3693  |1.0          |10.0            |89.0     |0.0           |0.0       |\n",
            "+------------+---------+------------+----------+-------------+---------------------------------+----------+---+-------+------+-------------+----------------+---------+--------------+----------+\n",
            "only showing top 2 rows\n",
            "\n"
          ],
          "name": "stdout"
        }
      ]
    },
    {
      "cell_type": "code",
      "metadata": {
        "id": "X3xPr2Tc50zg",
        "colab_type": "code",
        "colab": {}
      },
      "source": [
        ""
      ],
      "execution_count": 0,
      "outputs": []
    },
    {
      "cell_type": "code",
      "metadata": {
        "id": "GZDs7Ard1GlR",
        "colab_type": "code",
        "colab": {
          "base_uri": "https://localhost:8080/",
          "height": 173
        },
        "outputId": "ebd04cc9-92d1-45c8-dde3-bccd80c3461d"
      },
      "source": [
        "\n",
        "cars=OneHotEncoderEstimator(\n",
        "    inputCols=['cylinders_idx','manufacturer_idx','model_idx','model_year_idx','origin_idx'],\n",
        "    outputCols=['type_cylinders','type_manufacturer','type_model','type_model_year','type_origin'])\\\n",
        "    .fit(cars).transform(cars)\n",
        "\n",
        "cars.show(2, False)"
      ],
      "execution_count": 133,
      "outputs": [
        {
          "output_type": "stream",
          "text": [
            "+------------+---------+------------+----------+-------------+---------------------------------+----------+---+-------+------+-------------+----------------+---------+--------------+----------+---------------+--------------+---------------+-----------------+-------------+\n",
            "|acceleration|cylinders|displacement|horsepower|manufacturer |model                            |model_year|mpg|origin |weight|cylinders_idx|manufacturer_idx|model_idx|model_year_idx|origin_idx|type_model     |type_cylinders|type_model_year|type_manufacturer|type_origin  |\n",
            "+------------+---------+------------+----------+-------------+---------------------------------+----------+---+-------+------+-------------+----------------+---------+--------------+----------+---------------+--------------+---------------+-----------------+-------------+\n",
            "|3504        |8        |3504        |3504      |chevrolet    |chevrolet chevelle malibu        |70        |18 |USA    |3504  |1.0          |1.0             |70.0     |0.0           |0.0       |(93,[70],[1.0])|(2,[1],[1.0]) |(2,[0],[1.0])  |(27,[1],[1.0])   |(5,[0],[1.0])|\n",
            "|3693        |8        |3693        |3693      |buick        |buick skylark 320                |70        |15 |USA    |3693  |1.0          |10.0            |89.0     |0.0           |0.0       |(93,[89],[1.0])|(2,[1],[1.0]) |(2,[0],[1.0])  |(27,[10],[1.0])  |(5,[0],[1.0])|\n",
            "+------------+---------+------------+----------+-------------+---------------------------------+----------+---+-------+------+-------------+----------------+---------+--------------+----------+---------------+--------------+---------------+-----------------+-------------+\n",
            "only showing top 2 rows\n",
            "\n"
          ],
          "name": "stdout"
        }
      ]
    },
    {
      "cell_type": "code",
      "metadata": {
        "id": "qT_hYMdS4JX0",
        "colab_type": "code",
        "colab": {
          "base_uri": "https://localhost:8080/",
          "height": 153
        },
        "outputId": "e333c770-90c8-4725-b045-35b41f6de5f8"
      },
      "source": [
        "#cylinders, displacement, manufacturer, model year, origin and weight \n",
        "assembler = VectorAssembler(\n",
        "    inputCols=['type_cylinders','displacement','type_manufacturer','type_model_year','type_origin','weight'],\n",
        "    outputCol = 'features')\n",
        "output = assembler.transform(cars)\n",
        "#Input vs Output\n",
        "cars_21 = output.select(\"features\",\"horsepower\") #1: horsepower 2: acceleration\n",
        "cars_21.show(2, False)"
      ],
      "execution_count": 136,
      "outputs": [
        {
          "output_type": "stream",
          "text": [
            "+------------------------------------------------------+----------+\n",
            "|features                                              |horsepower|\n",
            "+------------------------------------------------------+----------+\n",
            "|(38,[1,2,4,30,32,37],[1.0,3504.0,1.0,1.0,1.0,3504.0]) |3504      |\n",
            "|(38,[1,2,13,30,32,37],[1.0,3693.0,1.0,1.0,1.0,3693.0])|3693      |\n",
            "+------------------------------------------------------+----------+\n",
            "only showing top 2 rows\n",
            "\n"
          ],
          "name": "stdout"
        }
      ]
    },
    {
      "cell_type": "code",
      "metadata": {
        "id": "kVkKPpG56Zve",
        "colab_type": "code",
        "colab": {}
      },
      "source": [
        "train, test = cars_21.randomSplit([0.9,0.1],seed =7)"
      ],
      "execution_count": 0,
      "outputs": []
    },
    {
      "cell_type": "code",
      "metadata": {
        "id": "aXuLt7gL7c9K",
        "colab_type": "code",
        "colab": {
          "base_uri": "https://localhost:8080/",
          "height": 170
        },
        "outputId": "0c711b68-0cca-4d44-848a-427f1228cd2a"
      },
      "source": [
        "lr_multi= LinearRegression(featuresCol='features',labelCol= 'horsepower').fit(train)\n",
        "pred_lr21= lr_multi.transform(test)\n",
        "pred_lr21.show(3, False)"
      ],
      "execution_count": 140,
      "outputs": [
        {
          "output_type": "stream",
          "text": [
            "+-----------------------------------------------------+----------+------------------+\n",
            "|features                                             |horsepower|prediction        |\n",
            "+-----------------------------------------------------+----------+------------------+\n",
            "|(38,[0,2,3,31,32,37],[1.0,2565.0,1.0,1.0,1.0,2565.0])|2565      |2565.000008378096 |\n",
            "|(38,[0,2,6,32,37],[1.0,2295.0,1.0,1.0,2295.0])       |2295      |2294.9999822371688|\n",
            "|(38,[0,2,6,32,37],[1.0,2370.0,1.0,1.0,2370.0])       |2370      |2369.999982276628 |\n",
            "+-----------------------------------------------------+----------+------------------+\n",
            "only showing top 3 rows\n",
            "\n"
          ],
          "name": "stdout"
        }
      ]
    },
    {
      "cell_type": "code",
      "metadata": {
        "id": "4A-wLNqQ7NxU",
        "colab_type": "code",
        "colab": {
          "base_uri": "https://localhost:8080/",
          "height": 34
        },
        "outputId": "c1c86f77-5f18-4d75-f2cf-757ad9e320ea"
      },
      "source": [
        "print(\"R2 is :\",RegressionEvaluator(labelCol= 'horsepower',metricName=\"r2\").evaluate(pred_lr21))"
      ],
      "execution_count": 141,
      "outputs": [
        {
          "output_type": "stream",
          "text": [
            "R2 is : 0.999999999999997\n"
          ],
          "name": "stdout"
        }
      ]
    },
    {
      "cell_type": "markdown",
      "metadata": {
        "id": "zlKH36bDAMI4",
        "colab_type": "text"
      },
      "source": [
        "# **2.2 acceleration :** cylinders, displacement, manufacturer, model year, origin and weight "
      ]
    },
    {
      "cell_type": "code",
      "metadata": {
        "id": "857DhqyPAYV4",
        "colab_type": "code",
        "colab": {
          "base_uri": "https://localhost:8080/",
          "height": 357
        },
        "outputId": "8da12fc0-5a30-4b43-f187-06ae3842368f"
      },
      "source": [
        "cars_22 = output.select(\"features\",\"acceleration\") #1: horsepower 2: acceleration\n",
        "print(cars_22.show(2, False))\n",
        "train_22, test_22 = cars_22.randomSplit([0.9,0.1],seed =7)\n",
        "lr_multi= LinearRegression(featuresCol='features',labelCol= 'acceleration').fit(train_22)\n",
        "pred_lr22= lr_multi.transform(test_22)\n",
        "print(pred_lr22.show(3, False))\n",
        "print(\"R2 is :\",RegressionEvaluator(labelCol= 'acceleration',metricName=\"r2\").evaluate(pred_lr22))"
      ],
      "execution_count": 143,
      "outputs": [
        {
          "output_type": "stream",
          "text": [
            "+------------------------------------------------------+------------+\n",
            "|features                                              |acceleration|\n",
            "+------------------------------------------------------+------------+\n",
            "|(38,[1,2,4,30,32,37],[1.0,3504.0,1.0,1.0,1.0,3504.0]) |3504        |\n",
            "|(38,[1,2,13,30,32,37],[1.0,3693.0,1.0,1.0,1.0,3693.0])|3693        |\n",
            "+------------------------------------------------------+------------+\n",
            "only showing top 2 rows\n",
            "\n",
            "None\n",
            "+-----------------------------------------------------+------------+------------------+\n",
            "|features                                             |acceleration|prediction        |\n",
            "+-----------------------------------------------------+------------+------------------+\n",
            "|(38,[0,2,3,31,32,37],[1.0,2565.0,1.0,1.0,1.0,2565.0])|2565        |2565.000008378096 |\n",
            "|(38,[0,2,6,32,37],[1.0,2295.0,1.0,1.0,2295.0])       |2295        |2294.9999822371688|\n",
            "|(38,[0,2,6,32,37],[1.0,2370.0,1.0,1.0,2370.0])       |2370        |2369.999982276628 |\n",
            "+-----------------------------------------------------+------------+------------------+\n",
            "only showing top 3 rows\n",
            "\n",
            "None\n",
            "R2 is : 0.999999999999997\n"
          ],
          "name": "stdout"
        }
      ]
    },
    {
      "cell_type": "markdown",
      "metadata": {
        "id": "Rslo7PnDBcyQ",
        "colab_type": "text"
      },
      "source": [
        "# **3 . DecisionTreeRegressor**\n",
        "\n",
        "Repeat above analysis with decision tree method. Compare predicting ability/quality of this technique with that of the linear regression."
      ]
    },
    {
      "cell_type": "code",
      "metadata": {
        "id": "q4uEWiScBiQ7",
        "colab_type": "code",
        "colab": {}
      },
      "source": [
        "from pyspark.ml.regression import DecisionTreeRegressor"
      ],
      "execution_count": 0,
      "outputs": []
    },
    {
      "cell_type": "code",
      "metadata": {
        "id": "TSD646gqCYxD",
        "colab_type": "code",
        "colab": {
          "base_uri": "https://localhost:8080/",
          "height": 204
        },
        "outputId": "07901e56-1756-43f9-a640-a4a45171d0c0"
      },
      "source": [
        " #1: horsepower 2: acceleration\n",
        "tree31= DecisionTreeRegressor(featuresCol='features',labelCol= 'horsepower').fit(train_21)\n",
        "pred_tree31= tree31.transform(test_21)\n",
        "print(pred_tree31.show(3, False))\n",
        "print(\"R2 is :\",RegressionEvaluator(labelCol= 'horsepower',metricName=\"r2\").evaluate(pred_tree31))"
      ],
      "execution_count": 147,
      "outputs": [
        {
          "output_type": "stream",
          "text": [
            "+------------------------------------------------------+----------+------------------+\n",
            "|features                                              |horsepower|prediction        |\n",
            "+------------------------------------------------------+----------+------------------+\n",
            "|(38,[0,2,4,32,37],[1.0,2605.0,1.0,1.0,2605.0])        |2605      |2583.8571428571427|\n",
            "|(38,[0,2,11,33,37],[1.0,2205.0,1.0,1.0,2205.0])       |2205      |2231.2            |\n",
            "|(38,[0,2,25,30,35,37],[1.0,3090.0,1.0,1.0,1.0,3090.0])|3090      |3118.0            |\n",
            "+------------------------------------------------------+----------+------------------+\n",
            "only showing top 3 rows\n",
            "\n",
            "None\n",
            "R2 is : 0.9707657881807638\n"
          ],
          "name": "stdout"
        }
      ]
    },
    {
      "cell_type": "code",
      "metadata": {
        "id": "3K-nzxq3CIfD",
        "colab_type": "code",
        "colab": {
          "base_uri": "https://localhost:8080/",
          "height": 204
        },
        "outputId": "f2f40b4f-c5ea-491f-82d5-33ccbc279f47"
      },
      "source": [
        " #1: horsepower 2: acceleration\n",
        "tree32= DecisionTreeRegressor(featuresCol='features',labelCol= 'acceleration').fit(train_22)\n",
        "pred_tree32= tree32.transform(test_22)\n",
        "print(pred_tree32.show(3, False))\n",
        "print(\"R2 is :\",RegressionEvaluator(labelCol= 'acceleration',metricName=\"r2\").evaluate(pred_tree32))"
      ],
      "execution_count": 148,
      "outputs": [
        {
          "output_type": "stream",
          "text": [
            "+-----------------------------------------------------+------------+------------------+\n",
            "|features                                             |acceleration|prediction        |\n",
            "+-----------------------------------------------------+------------+------------------+\n",
            "|(38,[0,2,3,31,32,37],[1.0,2565.0,1.0,1.0,1.0,2565.0])|2565        |2574.8333333333335|\n",
            "|(38,[0,2,6,32,37],[1.0,2295.0,1.0,1.0,2295.0])       |2295        |2217.5            |\n",
            "|(38,[0,2,6,32,37],[1.0,2370.0,1.0,1.0,2370.0])       |2370        |2393.0            |\n",
            "+-----------------------------------------------------+------------+------------------+\n",
            "only showing top 3 rows\n",
            "\n",
            "None\n",
            "R2 is : 0.9963761643203085\n"
          ],
          "name": "stdout"
        }
      ]
    }
  ]
}